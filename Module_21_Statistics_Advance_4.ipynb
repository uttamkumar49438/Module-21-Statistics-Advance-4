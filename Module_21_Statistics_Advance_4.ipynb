{
  "nbformat": 4,
  "nbformat_minor": 0,
  "metadata": {
    "colab": {
      "provenance": []
    },
    "kernelspec": {
      "name": "python3",
      "display_name": "Python 3"
    },
    "language_info": {
      "name": "python"
    }
  },
  "cells": [
    {
      "cell_type": "code",
      "execution_count": null,
      "metadata": {
        "id": "hwymVpcTt-eU"
      },
      "outputs": [],
      "source": []
    },
    {
      "cell_type": "markdown",
      "source": [
        "Q1: What is the difference between a t-test and a z-test? Provide an example scenario where you would\n",
        "use each type of test."
      ],
      "metadata": {
        "id": "WrVs8e7XuJ1F"
      }
    },
    {
      "cell_type": "markdown",
      "source": [
        " main difference between a t-test and a z-test lies in the situations they are suited for and the assumptions they make about the population being sampled from."
      ],
      "metadata": {
        "id": "mQbcHVsfuKrI"
      }
    },
    {
      "cell_type": "markdown",
      "source": [
        "Q2: Differentiate between one-tailed and two-tailed tests."
      ],
      "metadata": {
        "id": "5AcrCoU2uRj0"
      }
    },
    {
      "cell_type": "markdown",
      "source": [
        "= One-tailed test: It examines whether the sample statistic is significantly greater than or less than a certain value.\n",
        "\n",
        "= Two-tailed test: It tests whether the sample statistic is significantly different from a certain value, without specifying whether it is greater or less than"
      ],
      "metadata": {
        "id": "fAXQZpAGuUiq"
      }
    },
    {
      "cell_type": "markdown",
      "source": [
        "Q3: Explain the concept of Type 1 and Type 2 errors in hypothesis testing. Provide an example scenario for\n",
        "each type of error."
      ],
      "metadata": {
        "id": "HScOnLvauekp"
      }
    },
    {
      "cell_type": "markdown",
      "source": [
        "=Type 1 error: This occurs when you reject a true null hypothesis. It represents a false positive.\n",
        "=Type 2 error: This happens when you fail to reject a false null hypothesis. It represents a false negative.\n"
      ],
      "metadata": {
        "id": "vaHU2rgiuhFN"
      }
    },
    {
      "cell_type": "markdown",
      "source": [
        "Q4: Explain Bayes's theorem with an example."
      ],
      "metadata": {
        "id": "vKcFS6H8uoMd"
      }
    },
    {
      "cell_type": "markdown",
      "source": [
        "Bayes's theorem describes the probability of an event, based on prior knowledge of conditions that might be related to the event.\n",
        "\n",
        "Example: Suppose you have a diagnostic test for a disease that is 99% accurate. If the disease affects only 1% of the population, and you test positive, what is the probability that you actually have the disease?"
      ],
      "metadata": {
        "id": "aX9YnIM2uq5T"
      }
    },
    {
      "cell_type": "markdown",
      "source": [
        "Q5: What is a confidence interval? How to calculate the confidence interval, explain with an example."
      ],
      "metadata": {
        "id": "233N4iZeuxrA"
      }
    },
    {
      "cell_type": "markdown",
      "source": [
        "A confidence interval is a range of values derived from sample data that is likely to contain the true population parameter. It indicates the reliability of the estimate.\n",
        "\n"
      ],
      "metadata": {
        "id": "G7dDmzEMu1xU"
      }
    },
    {
      "cell_type": "markdown",
      "source": [
        "Q6. Use Bayes' Theorem to calculate the probability of an event occurring given prior knowledge of the\n",
        "event's probability and new evidence. Provide a sample problem and solution."
      ],
      "metadata": {
        "id": "PZedAuOgu5cg"
      }
    },
    {
      "cell_type": "markdown",
      "source": [
        "Let's say we have a diagnostic test for a certain disease that is known to have an overall prevalence rate of 2% in the population. The test has a sensitivity of 90% and a specificity of 95%. If a person tests positive, what is the probability that they actually have the disease?"
      ],
      "metadata": {
        "id": "K81LROBevM22"
      }
    },
    {
      "cell_type": "markdown",
      "source": [
        "Q7. Calculate the 95% confidence interval for a sample of data with a mean of 50 and a standard deviation\n",
        "of 5. Interpret the results."
      ],
      "metadata": {
        "id": "rq2_JBztvS1V"
      }
    },
    {
      "cell_type": "markdown",
      "source": [
        "The 95% confidence interval for a sample mean with a sample size greater than 30 can be calculated using the formula\n",
        "\n",
        "Since the sample size is not provided, we can't compute the confidence interval."
      ],
      "metadata": {
        "id": "AkubYzeEvVMF"
      }
    },
    {
      "cell_type": "markdown",
      "source": [
        "Q8. What is the margin of error in a confidence interval? How does sample size affect the margin of error?\n",
        "Provide an example of a scenario where a larger sample size would result in a smaller margin of error."
      ],
      "metadata": {
        "id": "VO7w84NmvdFk"
      }
    },
    {
      "cell_type": "markdown",
      "source": [
        "The margin of error in a confidence interval represents the amount by which the sample statistic may differ from the population parameter. It is influenced by the sample size and the desired confidence level. A larger sample size generally results in a smaller margin of error because it leads to a more precise estimate of the population parameter."
      ],
      "metadata": {
        "id": "ODlOzUfwvgGt"
      }
    },
    {
      "cell_type": "markdown",
      "source": [
        "Q9. Calculate the z-score for a data point with a value of 75, a population mean of 70, and a population\n",
        "standard deviation of 5. Interpret the results."
      ],
      "metadata": {
        "id": "-ev2iR_7vmaq"
      }
    },
    {
      "cell_type": "markdown",
      "source": [
        "The z-score measures how many standard deviations a data point is from the mean of the population. It's calculated using the formula.\n",
        "\n",
        "Degrees of freedom (df) =\n",
        "�\n",
        "−\n",
        "1\n",
        "=\n",
        "50\n",
        "−\n",
        "1\n",
        "=\n",
        "49\n",
        "n−1=50−1=49\n",
        "\n",
        "Now, we compare the calculated t-value to the critical t-value at a 95% confidence level with 49 degrees of freedom. If the calculated t-value exceeds the critical t-value, we reject the null hypothesis."
      ],
      "metadata": {
        "id": "YGcR_jJ_vnJm"
      }
    },
    {
      "cell_type": "markdown",
      "source": [
        "Q10. In a study of the effectiveness of a new weight loss drug, a sample of 50 participants lost an average\n",
        "of 6 pounds with a standard deviation of 2.5 pounds. Conduct a hypothesis test to determine if the drug is\n",
        "significantly effective at a 95% confidence level using a t-test."
      ],
      "metadata": {
        "id": "aQTeZ_1Tvue1"
      }
    },
    {
      "cell_type": "markdown",
      "source": [
        "Conducting a hypothesis test to determine if the weight loss drug is significantly effective at a 95% confidence level using a t-test.\n",
        "\n",
        "Null hypothesis (\n",
        "�\n",
        "0\n",
        "H\n",
        "0\n",
        "​\n",
        " ): The mean weight loss with the drug is not significantly different from zero.\n",
        "Alternative hypothesis (\n",
        "�\n",
        "�\n",
        "H\n",
        "a\n",
        "​\n",
        " ): The mean weight loss with the drug is significantly different from zero.\n",
        "\n",
        "Calculate the t-statistic:\n",
        "\n",
        "�\n",
        "=\n",
        "�\n",
        "ˉ\n",
        "−\n",
        "�\n",
        "�\n",
        "�\n",
        "t=\n",
        "n\n",
        "​\n",
        "\n",
        "s\n",
        "​\n",
        "\n",
        "X\n",
        "ˉ\n",
        " −μ\n",
        "​\n",
        "\n",
        "\n",
        "Since the population mean (\n",
        "�\n",
        "μ) is unknown, we use the sample mean (\n",
        "�\n",
        "ˉ\n",
        "X\n",
        "ˉ\n",
        " ) as the point estimate for\n",
        "�\n",
        "μ.\n",
        "\n",
        "�\n",
        "=\n",
        "6\n",
        "−\n",
        "0\n",
        "2.5\n",
        "50\n",
        "t=\n",
        "50\n",
        "​\n",
        "\n",
        "2.5\n",
        "​\n",
        "\n",
        "6−0\n",
        "​\n",
        "\n",
        "\n",
        "�\n",
        "≈\n",
        "6\n",
        "0.3536\n",
        "t≈\n",
        "0.3536\n",
        "6\n",
        "​\n",
        "\n",
        "\n",
        "�\n",
        "≈\n",
        "16.97\n",
        "t≈16.97\n",
        "\n",
        "Degrees of freedom (df) =\n",
        "�\n",
        "−\n",
        "1\n",
        "=\n",
        "50\n",
        "−\n",
        "1\n",
        "=\n",
        "49\n",
        "n−1=50−1=49\n",
        "\n",
        "Now, we compare the calculated t-value to the critical t-value at a 95% confidence level with 49 degrees of freedom. If the calculated t-value exceeds the critical t-value, we reject the null hypothesis."
      ],
      "metadata": {
        "id": "vaiXEEmFvxQA"
      }
    },
    {
      "cell_type": "markdown",
      "source": [
        "Q11. In a survey of 500 people, 65% reported being satisfied with their current job. Calculate the 95%\n",
        "confidence interval for the true proportion of people who are satisfied with their job."
      ],
      "metadata": {
        "id": "MaPG9WfJv9OP"
      }
    },
    {
      "cell_type": "markdown",
      "source": [
        "To calculate the 95% confidence interval for the true proportion of people satisfied with their job, we'll use the formula for the confidence interval for a population proportion:\n",
        "\n",
        "Confidence Interval\n",
        "=\n",
        "�\n",
        "^\n",
        "±\n",
        "�\n",
        "×\n",
        "�\n",
        "^\n",
        "(\n",
        "1\n",
        "−\n",
        "�\n",
        "^\n",
        ")\n",
        "�\n",
        "Confidence Interval=\n",
        "p\n",
        "^\n",
        "​\n",
        " ±z×\n",
        "n\n",
        "p\n",
        "^\n",
        "​\n",
        " (1−\n",
        "p\n",
        "^\n",
        "​\n",
        " )\n",
        "​\n",
        "\n",
        "​\n",
        "\n",
        "So, the 95% confidence interval for the true proportion of people satisfied with their job is approximately\n",
        "0.6082\n",
        "0.6082 to\n",
        "0.6918\n",
        "0.6918."
      ],
      "metadata": {
        "id": "EaLB1Vs9wMZs"
      }
    },
    {
      "cell_type": "markdown",
      "source": [
        "Q12. A researcher is testing the effectiveness of two different teaching methods on student performance.\n",
        "Sample A has a mean score of 85 with a standard deviation of 6, while sample B has a mean score of 82\n",
        "with a standard deviation of 5. Conduct a hypothesis test to determine if the two teaching methods have a\n",
        "significant difference in student performance using a t-test with a significance level of 0.01."
      ],
      "metadata": {
        "id": "wjnthszAwWip"
      }
    },
    {
      "cell_type": "markdown",
      "source": [
        "Conducting a hypothesis test to determine if the two teaching methods have a significant difference in student performance using a t-test with a significance level of 0.01:\n",
        "\n",
        "Calculate the t-statistic:\n",
        "\n",
        "�\n",
        "=\n",
        "(\n",
        "�\n",
        "ˉ\n",
        "�\n",
        "−\n",
        "�\n",
        "ˉ\n",
        "�\n",
        ")\n",
        "�\n",
        "�\n",
        "2\n",
        "�\n",
        "�\n",
        "+\n",
        "�\n",
        "�\n",
        "2\n",
        "�\n",
        "�\n",
        "t=\n",
        "n\n",
        "A\n",
        "​\n",
        "\n",
        "s\n",
        "A\n",
        "2\n",
        "​\n",
        "\n",
        "​\n",
        " +\n",
        "n\n",
        "B\n",
        "​\n",
        "\n",
        "s\n",
        "B\n",
        "2\n",
        "​\n",
        "\n",
        "​\n",
        "\n",
        "​\n",
        "\n",
        "(\n",
        "X\n",
        "ˉ\n",
        "  \n",
        "A\n",
        "​\n",
        " −\n",
        "X\n",
        "ˉ\n",
        "  \n",
        "B\n",
        "​\n",
        " )\n",
        "​\n",
        "\n",
        "\n",
        "�\n",
        "=\n",
        "(\n",
        "85\n",
        "−\n",
        "82\n",
        ")\n",
        "6\n",
        "2\n",
        "�\n",
        "�\n",
        "+\n",
        "5\n",
        "2\n",
        "�\n",
        "�\n",
        "t=\n",
        "n\n",
        "A\n",
        "​\n",
        "\n",
        "6\n",
        "2\n",
        "\n",
        "​\n",
        " +\n",
        "n\n",
        "B\n",
        "​\n",
        "\n",
        "5\n",
        "2\n",
        "\n",
        "​\n",
        "\n",
        "​\n",
        "\n",
        "(85−82)\n",
        "​\n",
        "\n",
        "\n",
        "Since the sample sizes are not provided, we can't compute the t-statistic."
      ],
      "metadata": {
        "id": "Zb1z1lpZwZ0t"
      }
    },
    {
      "cell_type": "markdown",
      "source": [
        "Q13. A population has a mean of 60 and a standard deviation of 8. A sample of 50 observations has a mean\n",
        "of 65. Calculate the 90% confidence interval for the true population mean."
      ],
      "metadata": {
        "id": "X9PC0BH6whpr"
      }
    },
    {
      "cell_type": "markdown",
      "source": [
        "To calculate the 90% confidence interval for the population mean, we'll use the formula:\n",
        "\n",
        "Confidence Interval\n",
        "=\n",
        "�\n",
        "ˉ\n",
        "±\n",
        "�\n",
        "×\n",
        "�\n",
        "�\n",
        "Confidence Interval=\n",
        "X\n",
        "ˉ\n",
        " ±z×\n",
        "n\n",
        "​\n",
        "\n",
        "σ\n",
        "​\n",
        "\n",
        "So, the 90% confidence interval for the true population mean is approximately\n",
        "63.1385\n",
        "63.1385 to\n",
        "66.8615\n",
        "66.8615."
      ],
      "metadata": {
        "id": "ssC2L2i6wkw5"
      }
    },
    {
      "cell_type": "markdown",
      "source": [
        "Q14. In a study of the effects of caffeine on reaction time, a sample of 30 participants had an average\n",
        "reaction time of 0.25 seconds with a standard deviation of 0.05 seconds. Conduct a hypothesis test to\n",
        "determine if the caffeine has a significant effect on reaction time at a 90% confidence level using a t-test."
      ],
      "metadata": {
        "id": "CPJIbsQqwr3K"
      }
    },
    {
      "cell_type": "markdown",
      "source": [
        "Conducting a hypothesis test to determine if caffeine has a significant effect on reaction time at a 90% confidence level using a t-test.\n",
        "\n",
        "Now, we compare the calculated t-value to the critical t-value at a 90% confidence level with 29 degrees of freedom. If the calculated t-value exceeds the critical t-value, we reject the null hypothesis."
      ],
      "metadata": {
        "id": "qVie_SfpwugD"
      }
    }
  ]
}